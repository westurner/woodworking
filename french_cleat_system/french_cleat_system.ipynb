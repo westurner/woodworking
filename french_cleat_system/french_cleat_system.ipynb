{
 "cells": [
  {
   "cell_type": "markdown",
   "metadata": {},
   "source": [
    "# French Cleat Shop System"
   ]
  },
  {
   "cell_type": "markdown",
   "metadata": {},
   "source": [
    "## 1. Prepare and install French Cleats\n",
    "### Tools\n",
    "- [x] Studfinder\n",
    "- [x] Laser Level\n",
    "- [x] Pencil\n",
    "- [x] Table saw\n",
    "- [x] Sliding t-bevel\n",
    "- [x] Router table\n",
    "- [x] 1/4\" roundover bit\n",
    "- [ ] Paintbrush\n",
    "- [x] Drill\n",
    "\n",
    "\n",
    "### Parts\n",
    "- [ ] 2x6\n",
    "- [ ] Bolts to attach to studs with\n",
    "- [ ] Orange and/or black paint\n",
    "\n",
    "### Steps\n",
    "- [ ] Take photo of wall(s)\n",
    "- [ ] Determine how many 2x6s are needed\n",
    "- [ ] List possible cleated cabinets and fixtures and dimensions\n",
    "- [ ] Prepare cut list\n",
    "- [ ] Cut 2x6 to lengths\n",
    "- [ ] Set fence to 1\", set blade to 45 degrees\n",
    "- [ ] Test cut, cut in half, put together and measure for 90 degrees\n",
    "- [ ] Cut 45 degree cleat into 2x6s (offset 1\")\n",
    "- [ ] Route and sand cleat edges to prevent chipout\n",
    "- [ ] Pre-drill into studs\n",
    "- [ ] Hold up boards (2 people) and drill into wall\n",
    "- [ ] Create cleated cabinets and fixtures"
   ]
  },
  {
   "cell_type": "markdown",
   "metadata": {},
   "source": [
    "## Potential Cleated Things\n",
    "- Chargers, Battery, Drill, Drill bits,  Screw Shelves\n",
    "- Clamp Rack: 4x 36\", [...]\n",
    "- Plane Rack\n",
    "- Pocket Hole Jig & Screw Shelves\n",
    "- Plastic Tubs: Spray Paints, Paintbrushes, Chemicals Shelves\n",
    "- Squares: Speed Squares (x4), T-Squares (x3), Measuring Sticks (x2), Level (x1), Calipers (x1)\n",
    "- Bookshelves\n",
    "- Table Saw Mitre Jig hanger\n",
    "- Safety Glasses, Ear Protectors, Masks, Knee Pads\n",
    "- Air tools: kit, hoses shelves\n",
    "- 90 degree clamps (x2)\n",
    "- Pencil sharpener\n",
    "- Finishing; glue, sandpaper, tack cloth"
   ]
  },
  {
   "cell_type": "code",
   "execution_count": 1,
   "metadata": {},
   "outputs": [],
   "source": [
    "#!/opt/conda/envs/cq/bin/pip install -e git+https://github.com/astanin/python-tabulate#egg=tabulate\n",
    "#!/opt/conda/envs/cq/bin/pip install pint\n",
    "#!conda install -y sympy mypy"
   ]
  },
  {
   "cell_type": "code",
   "execution_count": 2,
   "metadata": {},
   "outputs": [
    {
     "ename": "ModuleNotFoundError",
     "evalue": "No module named 'typeshed'",
     "output_type": "error",
     "traceback": [
      "\u001b[0;31m---------------------------------------------------------------------------\u001b[0m",
      "\u001b[0;31mModuleNotFoundError\u001b[0m                       Traceback (most recent call last)",
      "\u001b[0;32m<ipython-input-2-c28f25b286c9>\u001b[0m in \u001b[0;36m<module>\u001b[0;34m\u001b[0m\n\u001b[1;32m      1\u001b[0m \u001b[0;32mfrom\u001b[0m \u001b[0mtabulate\u001b[0m \u001b[0;32mimport\u001b[0m \u001b[0mtabulate\u001b[0m\u001b[0;34m\u001b[0m\u001b[0;34m\u001b[0m\u001b[0m\n\u001b[0;32m----> 2\u001b[0;31m \u001b[0;32mfrom\u001b[0m \u001b[0mimperialunits\u001b[0m \u001b[0;32mimport\u001b[0m \u001b[0mConf\u001b[0m\u001b[0;34m,\u001b[0m \u001b[0mContext\u001b[0m\u001b[0;34m,\u001b[0m \u001b[0mexpress_in\u001b[0m\u001b[0;34m,\u001b[0m \u001b[0mCutlist\u001b[0m\u001b[0;34m,\u001b[0m \u001b[0mLumber2x6\u001b[0m\u001b[0;34m\u001b[0m\u001b[0;34m\u001b[0m\u001b[0m\n\u001b[0m\u001b[1;32m      3\u001b[0m \u001b[0;34m\u001b[0m\u001b[0m\n\u001b[1;32m      4\u001b[0m \u001b[0;32mfrom\u001b[0m \u001b[0mcollections\u001b[0m \u001b[0;32mimport\u001b[0m \u001b[0mnamedtuple\u001b[0m\u001b[0;34m\u001b[0m\u001b[0;34m\u001b[0m\u001b[0m\n\u001b[1;32m      5\u001b[0m \u001b[0;34m\u001b[0m\u001b[0m\n",
      "\u001b[0;32m~/workdir/imperialunits.py\u001b[0m in \u001b[0;36m<module>\u001b[0;34m\u001b[0m\n\u001b[1;32m      3\u001b[0m \u001b[0;32mfrom\u001b[0m \u001b[0mfractions\u001b[0m \u001b[0;32mimport\u001b[0m \u001b[0mFraction\u001b[0m\u001b[0;34m\u001b[0m\u001b[0;34m\u001b[0m\u001b[0m\n\u001b[1;32m      4\u001b[0m \u001b[0;32mfrom\u001b[0m \u001b[0mtyping\u001b[0m \u001b[0;32mimport\u001b[0m \u001b[0mList\u001b[0m\u001b[0;34m\u001b[0m\u001b[0;34m\u001b[0m\u001b[0m\n\u001b[0;32m----> 5\u001b[0;31m \u001b[0;32mfrom\u001b[0m \u001b[0mtypeshed\u001b[0m\u001b[0;34m.\u001b[0m\u001b[0mnumbers\u001b[0m \u001b[0;32mimport\u001b[0m \u001b[0mNumber\u001b[0m\u001b[0;34m\u001b[0m\u001b[0;34m\u001b[0m\u001b[0m\n\u001b[0m\u001b[1;32m      6\u001b[0m \u001b[0;34m\u001b[0m\u001b[0m\n\u001b[1;32m      7\u001b[0m \u001b[0;32mfrom\u001b[0m \u001b[0mtabulate\u001b[0m \u001b[0;32mimport\u001b[0m \u001b[0mtabulate\u001b[0m\u001b[0;34m\u001b[0m\u001b[0;34m\u001b[0m\u001b[0m\n",
      "\u001b[0;31mModuleNotFoundError\u001b[0m: No module named 'typeshed'"
     ]
    }
   ],
   "source": [
    "from tabulate import tabulate\n",
    "from imperialunits import Conf, Context, express_in, Cutlist, Lumber2x6\n",
    "\n",
    "from collections import namedtuple\n",
    "\n",
    "_row = namedtuple('Row', ['id', 'length', 'screws'])\n",
    "class Row(_row):\n",
    "    pass\n",
    "\n",
    "\n",
    "class FrenchCleatSystem:\n",
    "    def __init__(self, cx=None):\n",
    "        self.cx = cx = cx if cx else Context()\n",
    "        \n",
    "        # Rough measurements\n",
    "        # lengths = [102, 58, 69]\n",
    "        self.cx['rows'] = rows = []\n",
    "        [rows.append(Row(id=f'A{n}', length=101.75, screws=6)) for n in range(1, 4+1)]\n",
    "        [rows.append(Row(id=f'B{n}', length=58.5, screws=4)) for n in range(1, 4+1)]\n",
    "        [rows.append(Row(id=f'C{n}', length=69-Lumber2x6.height, screws=4)) for n in range(1, 4+1)]\n",
    "        \n",
    "        totallength = 0\n",
    "        screwcount = 0\n",
    "        for row in rows:\n",
    "            totallength += row.length\n",
    "            screwcount += row.screws\n",
    "        self.cx['totallength'] = totallength\n",
    "        self.cx['screwcount'] = screwcount\n",
    "\n",
    "        self.cx['cuts'] = cuts = self.calculate_cutlist()\n",
    "        \n",
    "    def calculate_cutlist(self):\n",
    "        rows = self.cx['rows']\n",
    "        return NotImplemented\n",
    "        \n",
    "        \n",
    "        \n",
    "    def __str__(self):\n",
    "        return \"FrenchCleatSystem(\" + str(self.cx) + \")\"\n",
    "    \n",
    "    __repr__ = __str__\n",
    "    \n",
    "    def _repr_html_(self):\n",
    "        if Conf.FORMAT_CONTEXT:\n",
    "            data = ((x,express_in(y) if not hasattr(y, '__iter__') else List(y)) for (x,y) in self.cx.items())\n",
    "        else:\n",
    "            data = self.cx.items()\n",
    "        return tabulate(data, tablefmt='html')\n",
    "        \n",
    "fcs = FrenchCleatSystem()\n",
    "fcs"
   ]
  },
  {
   "cell_type": "code",
   "execution_count": null,
   "metadata": {},
   "outputs": [],
   "source": [
    "# Rough measurements\n",
    "lengths = [102, 58, 69]"
   ]
  },
  {
   "cell_type": "code",
   "execution_count": null,
   "metadata": {},
   "outputs": [],
   "source": []
  }
 ],
 "metadata": {
  "kernelspec": {
   "display_name": "Python 3",
   "language": "python",
   "name": "python3"
  },
  "language_info": {
   "codemirror_mode": {
    "name": "ipython",
    "version": 3
   },
   "file_extension": ".py",
   "mimetype": "text/x-python",
   "name": "python",
   "nbconvert_exporter": "python",
   "pygments_lexer": "ipython3",
   "version": "3.6.8"
  }
 },
 "nbformat": 4,
 "nbformat_minor": 4
}
