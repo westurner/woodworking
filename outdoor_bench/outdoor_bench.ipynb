{
 "cells": [
  {
   "cell_type": "markdown",
   "metadata": {},
   "source": [
    "# Bench"
   ]
  },
  {
   "cell_type": "code",
   "execution_count": 1,
   "metadata": {},
   "outputs": [],
   "source": [
    "#!conda install sympy\n",
    "#!/opt/conda/envs/cq/bin/pip install -e git+https://github.com/astanin/python-tabulate#egg=tabulate\n",
    "#!/opt/conda/envs/cq/bin/pip install pint"
   ]
  },
  {
   "cell_type": "code",
   "execution_count": 2,
   "metadata": {},
   "outputs": [],
   "source": [
    "import math\n",
    "from fractions import Fraction\n",
    "\n",
    "from tabulate import tabulate\n",
    "#import pint\n",
    "#ureg = pint.UnitRegistry()\n",
    "\n",
    "from sympy import Rational"
   ]
  },
  {
   "cell_type": "code",
   "execution_count": 3,
   "metadata": {},
   "outputs": [],
   "source": [
    "class Conf:\n",
    "    FORMAT_CONTEXT = False  # Whether to apply format_context to Bench._repr_html_\n",
    "\n",
    "def format_context(ctx):\n",
    "    return Context({x: express_in(y) for (x,y) in ctx.items()})\n"
   ]
  },
  {
   "cell_type": "code",
   "execution_count": 4,
   "metadata": {},
   "outputs": [],
   "source": [
    "class List(list):\n",
    "    def __str__(self):\n",
    "        return \"List%s\" % (list.__str__(self))\n",
    "\n",
    "def express_in(number, tostr=True):\n",
    "    _floor = math.floor(number)\n",
    "    _remaining = Rational(number-_floor)\n",
    "    if _floor == 0:\n",
    "        _remaining = Rational(_remaining)\n",
    "        if tostr:\n",
    "            return '%s\"' % _remaining\n",
    "        else:\n",
    "            return Rational(_remaining)\n",
    "    if tostr:\n",
    "        if _remaining:\n",
    "            return '%s-%s\"' % (_floor, _remaining)\n",
    "        else:\n",
    "            return '%s\"' % (_floor)\n",
    "    else:\n",
    "        return (_floor, _remaining)\n",
    "\n",
    "assert express_in(Rational(\"7/2\"), tostr=False) == (3, Rational(\"1/2\"))\n",
    "assert express_in(0.5625, tostr=False) == Rational(\"9/16\")\n"
   ]
  },
  {
   "cell_type": "code",
   "execution_count": 5,
   "metadata": {},
   "outputs": [
    {
     "name": "stdout",
     "output_type": "stream",
     "text": [
      "('boards_wide_divmod', (11, 1/4))\n",
      "('boards_wide', 12)\n",
      "('long_board_rows', 6)\n",
      "('short_board_rows', 6)\n",
      "('short_boards', 20)\n",
      "('total_board_length', 358.000000000000)\n",
      "('total_board_length_divmod_12', (29, 10.0))\n",
      "('total_board_length_divmod_192', (1, 166.0))\n",
      "('total_board_length_divmod_144', (2, 70.0))\n",
      "('leg_height', 21.0000000000000)\n",
      "('legs', 82.0)\n",
      "('legs_divmod_12', (6.0, 10.0))\n",
      "('legs_to_shoulder', 16.5000000000000)\n",
      "('pieces', [[6, '2x4', 8, 17], [2, '4x4', 8, 38]])\n",
      "[6, '2x4', 8, 17]\n",
      "[2, '4x4', 8, 38]\n",
      "('total_weight', 178)\n"
     ]
    },
    {
     "data": {
      "text/html": [
       "<table>\n",
       "<tbody>\n",
       "<tr><td>length                       </td><td>48                                    </td></tr>\n",
       "<tr><td>width                        </td><td>67/4                                  </td></tr>\n",
       "<tr><td>height                       </td><td>20.5                                  </td></tr>\n",
       "<tr><td>short_board_length           </td><td>3.5                                   </td></tr>\n",
       "<tr><td>short_board_count            </td><td>4                                     </td></tr>\n",
       "<tr><td>boards_wide_divmod           </td><td>(11, 1/4)                             </td></tr>\n",
       "<tr><td>boards_wide                  </td><td>12                                    </td></tr>\n",
       "<tr><td>long_board_rows              </td><td>6                                     </td></tr>\n",
       "<tr><td>short_board_rows             </td><td>6                                     </td></tr>\n",
       "<tr><td>short_boards                 </td><td>20                                    </td></tr>\n",
       "<tr><td>total_board_length           </td><td>358.000000000000                      </td></tr>\n",
       "<tr><td>total_board_length_divmod_12 </td><td>(29, 10.0)                            </td></tr>\n",
       "<tr><td>total_board_length_divmod_192</td><td>(1, 166.0)                            </td></tr>\n",
       "<tr><td>total_board_length_divmod_144</td><td>(2, 70.0)                             </td></tr>\n",
       "<tr><td>leg_height                   </td><td>21.0000000000000                      </td></tr>\n",
       "<tr><td>legs                         </td><td>82.0                                  </td></tr>\n",
       "<tr><td>legs_divmod_12               </td><td>(6.0, 10.0)                           </td></tr>\n",
       "<tr><td>legs_to_shoulder             </td><td>16.5000000000000                      </td></tr>\n",
       "<tr><td>pieces                       </td><td>[[6, '2x4', 8, 17], [2, '4x4', 8, 38]]</td></tr>\n",
       "<tr><td>total_weight                 </td><td>178                                   </td></tr>\n",
       "</tbody>\n",
       "</table>"
      ],
      "text/plain": [
       "Bench({'length': 48, 'width': 67/4, 'height': 20.5, 'short_board_length': 3.5, 'short_board_count': 4, 'boards_wide_divmod': (11, 1/4), 'boards_wide': 12, 'long_board_rows': 6, 'short_board_rows': 6, 'short_boards': 20, 'total_board_length': 358.000000000000, 'total_board_length_divmod_12': (29, 10.0), 'total_board_length_divmod_192': (1, 166.0), 'total_board_length_divmod_144': (2, 70.0), 'leg_height': 21.0000000000000, 'legs': 82.0, 'legs_divmod_12': (6.0, 10.0), 'legs_to_shoulder': 16.5000000000000, 'pieces': [[6, '2x4', 8, 17], [2, '4x4', 8, 38]], 'total_weight': 178})"
      ]
     },
     "execution_count": 5,
     "metadata": {},
     "output_type": "execute_result"
    }
   ],
   "source": [
    "class Lumber2x4:\n",
    "    height = 1.5 # * ureg.inches\n",
    "    width = 3.5 # * ureg.inches\n",
    "    \n",
    "class TreatedLumber2x4:\n",
    "    height = Rational(\"3/2\") # + Rational(\"1/8\")) # * ureg.inch  # 1 1/2\n",
    "    width = (Rational(\"7/2\") + Rational(\"1/8\"))  # * ureg.inch  # 3 5/8\n",
    "    \n",
    "class TreatedLumber4x4:\n",
    "    height = width = (Rational(\"7/2\") + Rational(\"1/8\"))  # * ureg.inch  # 3 5/8\n",
    "\n",
    "class Context(dict):\n",
    "    def set(self, key, value):\n",
    "        self[key] = value\n",
    "        print((key, value))\n",
    "        \n",
    "    def _repr_html_(self):\n",
    "        return tabulate(self.items(), tablefmt='html')\n",
    "\n",
    "\n",
    "\"\"\"\n",
    "__divmod = divmod\n",
    "def divmod(x, y):\n",
    "    n, remainder = __divmod(x, y)\n",
    "    if hasattr(x, 'units'):\n",
    "        if not hasattr(n, 'units'):\n",
    "            n = n*x.units\n",
    "        if not hasattr(remainder, 'units'):\n",
    "            remainder = n*x.units\n",
    "    return n, remainder\n",
    "\"\"\" \n",
    "    \n",
    "class Bench:\n",
    "    def __init__(self, length=48, width=16 + Rational(\"3/4\"), height=20.5, short_board_length=3.5, short_board_count=4):\n",
    "\n",
    "        ctx = self.ctx = Context()\n",
    "        ctx.update(dict(length=length, width=width,\n",
    "                   height=height, short_board_length=short_board_length,\n",
    "                   short_board_count=short_board_count))\n",
    "\n",
    "        boards_wide_divmod = divmod(width, TreatedLumber2x4.height)\n",
    "        ctx.set('boards_wide_divmod', boards_wide_divmod)\n",
    "        boards_wide = boards_wide_divmod[0] + int(bool(boards_wide_divmod[1]))\n",
    "        ctx.set('boards_wide', boards_wide)\n",
    "        long_board_rows = math.ceil(boards_wide / 2)\n",
    "        ctx.set('long_board_rows', long_board_rows)\n",
    "        short_board_rows = (boards_wide - long_board_rows)\n",
    "        ctx.set('short_board_rows',  short_board_rows)\n",
    "        short_boards = ((short_board_rows) * short_board_count) - 4  # leg tenons\n",
    "        ctx.set('short_boards', short_boards)\n",
    "\n",
    "\n",
    "\n",
    "        tbl = total_board_length = 0\n",
    "        tbl += short_boards * short_board_length\n",
    "\n",
    "        tbl += long_board_rows * length\n",
    "\n",
    "        ctx.set('total_board_length', tbl)\n",
    "\n",
    "        ctx.set('total_board_length_divmod_12', divmod(tbl, 12))\n",
    "\n",
    "        assert 12*16 == 192\n",
    "        ctx.set('total_board_length_divmod_192', divmod(tbl, 192))\n",
    "\n",
    "        assert 12*12 == 144\n",
    "        ctx.set('total_board_length_divmod_144', divmod(tbl, 144))\n",
    "\n",
    "        legs = 4 * height\n",
    "        ctx.set('leg_height', height + Rational(\"1/2\"))\n",
    "        ctx.set('legs', legs)\n",
    "        ctx.set('legs_divmod_12', divmod(legs, 12))\n",
    "        \n",
    "        ctx.set('legs_to_shoulder', ctx['leg_height'] - (4 + Rational(\"1/2\")))\n",
    "        \n",
    "        ctx.set('pieces', self.pieces())\n",
    "        ctx.set('total_weight', self.calculate_weight())\n",
    "        \n",
    "    def pieces(self):\n",
    "        return [\n",
    "            [6, '2x4', 8, 17],\n",
    "            [2, '4x4', 8, 38]\n",
    "        ]\n",
    "        # - 2x 2x4 x 16ft \n",
    "        # - 1x 2x4 x 12ft\n",
    "        # - 1x 4x4 x 12\n",
    "\n",
    "    def calculate_weight(self):\n",
    "        weight = 0\n",
    "        for p in self.ctx['pieces']:\n",
    "            print(p)\n",
    "            weight += p[0] * p[-1]\n",
    "        return weight\n",
    "\n",
    "    def __str__(self):\n",
    "        return \"Bench(\" + str(self.ctx) + \")\"\n",
    "    \n",
    "    __repr__ = __str__\n",
    "    \n",
    "    def _repr_html_(self):\n",
    "        if Conf.FORMAT_CONTEXT:\n",
    "            data = ((x,express_in(y) if not hasattr(y, '__iter__') else List(y)) for (x,y) in self.ctx.items())\n",
    "        else:\n",
    "            data = self.ctx.items()\n",
    "        return tabulate(data, tablefmt='html')\n",
    "    \n",
    "bench = Bench()\n",
    "bench"
   ]
  },
  {
   "cell_type": "code",
   "execution_count": 6,
   "metadata": {},
   "outputs": [
    {
     "data": {
      "text/html": [
       "<table>\n",
       "<tbody>\n",
       "<tr><td>length                       </td><td>48\"                                       </td></tr>\n",
       "<tr><td>width                        </td><td>16-3/4\"                                   </td></tr>\n",
       "<tr><td>height                       </td><td>20-1/2\"                                   </td></tr>\n",
       "<tr><td>short_board_length           </td><td>3-1/2\"                                    </td></tr>\n",
       "<tr><td>short_board_count            </td><td>4\"                                        </td></tr>\n",
       "<tr><td>boards_wide_divmod           </td><td>List[11, 1/4]                             </td></tr>\n",
       "<tr><td>boards_wide                  </td><td>12\"                                       </td></tr>\n",
       "<tr><td>long_board_rows              </td><td>6\"                                        </td></tr>\n",
       "<tr><td>short_board_rows             </td><td>6\"                                        </td></tr>\n",
       "<tr><td>short_boards                 </td><td>20\"                                       </td></tr>\n",
       "<tr><td>total_board_length           </td><td>358\"                                      </td></tr>\n",
       "<tr><td>total_board_length_divmod_12 </td><td>List[29, 10.0000000000000]                </td></tr>\n",
       "<tr><td>total_board_length_divmod_192</td><td>List[1, 166.000000000000]                 </td></tr>\n",
       "<tr><td>total_board_length_divmod_144</td><td>List[2, 70.0000000000000]                 </td></tr>\n",
       "<tr><td>leg_height                   </td><td>21\"                                       </td></tr>\n",
       "<tr><td>legs                         </td><td>82\"                                       </td></tr>\n",
       "<tr><td>legs_divmod_12               </td><td>List[6.0, 10.0]                           </td></tr>\n",
       "<tr><td>legs_to_shoulder             </td><td>16-1/2\"                                   </td></tr>\n",
       "<tr><td>pieces                       </td><td>List[[6, '2x4', 8, 17], [2, '4x4', 8, 38]]</td></tr>\n",
       "<tr><td>total_weight                 </td><td>178\"                                      </td></tr>\n",
       "</tbody>\n",
       "</table>"
      ],
      "text/plain": [
       "Bench({'length': 48, 'width': 67/4, 'height': 20.5, 'short_board_length': 3.5, 'short_board_count': 4, 'boards_wide_divmod': (11, 1/4), 'boards_wide': 12, 'long_board_rows': 6, 'short_board_rows': 6, 'short_boards': 20, 'total_board_length': 358.000000000000, 'total_board_length_divmod_12': (29, 10.0), 'total_board_length_divmod_192': (1, 166.0), 'total_board_length_divmod_144': (2, 70.0), 'leg_height': 21.0000000000000, 'legs': 82.0, 'legs_divmod_12': (6.0, 10.0), 'legs_to_shoulder': 16.5000000000000, 'pieces': [[6, '2x4', 8, 17], [2, '4x4', 8, 38]], 'total_weight': 178})"
      ]
     },
     "execution_count": 6,
     "metadata": {},
     "output_type": "execute_result"
    }
   ],
   "source": [
    "Conf.FORMAT_CONTEXT = True\n",
    "bench"
   ]
  },
  {
   "cell_type": "markdown",
   "metadata": {},
   "source": [
    "### Steps\n",
    "\n",
    "- [...]\n",
    "- [x] Buy lumber (see: `pieces`)\n",
    "  - [ ] Update lumber counts\n",
    "  - [ ] Add 2x 7/16\" 48\" dowels = 96\" (4 rails * 4 * 4\" = 64\")\n",
    "- [x] Buy hardware\n",
    "  - [x] 4x  3/8\" 36\" threaded rods\n",
    "  - [ ] 4x rods * 4 = 16 nuts, 16 washers\n",
    "    - Have 12 nuts, 12 washers\n",
    "- [x] Buy tools\n",
    "  - [ ] ...\n",
    "  - [x] Angle grinder\n",
    "  - [x] Angle grinder metal cutting disc\n",
    "  - [x] Forstner bit: TODO size\n",
    "  - [x] Table saw\n",
    "  - [x] 4x 24\"+ clamps\n",
    "  - [x] Mortising router bit\n",
    "  - [ ] \n",
    "- [x] Cut 4x4 legs: 4x at `height` + `height_extra` # TODO\n",
    "- [x] Cut 2x4 short boards: `short_boards` x  3.5+1/8\n",
    "- [x] Arrange top right-side-up\n",
    "- [x] Clamp top\n",
    "- [x] Let top sit clamped for awhile\n",
    "- [x] Flip top upside down\n",
    "- [x] Cut threaded rods to length: `bench.depth`\n",
    "- [ ] Drill boards\n",
    "  - [x] Make drill centering jig\n",
    "  - [ ] Drill inset for threaded rods with forstner bit\n",
    "  - [ ] Drill 2x inner set first, assemble, and check\n",
    "  - [ ] Drill 2x outer set\n",
    "- [x] Calculate side rail lengths\n",
    "- [x] Calculate wide rail lengths\n",
    "- [x] Cut side rails to `side_rail_length`\n",
    "- [x] Cut wide rails to `wide_rail_length`\n",
    "- [x] Make mortise template `TreatedLumber2x4.width`, `TreatedLumber2x4.height` centered on 4x4\n",
    "- [x] Make 12x leg mortises `TreatedLumber2x4.width`, `TreatedLumber2x4.height`\n",
    "  - [x] 4x mortise 1\n",
    "  - [x] 4x mortise 2\n",
    "  - [x] 4x mortise 3\n",
    "    - [x] smaller to have a flush top shoulder\n",
    "  - [x] Route each side with Mortising Bit\n",
    "  - [x] Chisel square\n",
    "  - [x] Chisel the rest of the way through\n",
    "- [x] Cut leg tenons: `TreatedLumber2x4.width`, `TreatedLumber2x4.height`\n",
    "- [x] Cut wide rail tenons such that the side rail is flush with the top of the leg shoulder\n",
    "- .\n",
    "- [ ] Round over edges\n",
    "- [ ] Assemble base\n",
    "- [ ] Assemble top\n",
    "  - [ ] Glue pieces\n",
    "  - [ ] Thread onto rod\n",
    "    - [ ] Thread leg tenons onto rod\n",
    "  - [ ] Clamp\n",
    "  - [ ] Tighten bolts\n",
    "- [ ] Drill holes in leg tenons for dowels\n",
    "- [ ] Drive dowels\n"
   ]
  },
  {
   "cell_type": "code",
   "execution_count": 7,
   "metadata": {},
   "outputs": [
    {
     "data": {
      "text/html": [
       "<table>\n",
       "<tbody>\n",
       "<tr><td>mortise_3_offset_top   </td><td style=\"text-align: right;\">1    </td></tr>\n",
       "<tr><td>mortise_3_height       </td><td style=\"text-align: right;\">3.625</td></tr>\n",
       "<tr><td>mortise_3_offset       </td><td style=\"text-align: right;\">     </td></tr>\n",
       "<tr><td>mortise_2_height       </td><td style=\"text-align: right;\">3.625</td></tr>\n",
       "<tr><td>mortise_2_offset       </td><td style=\"text-align: right;\">     </td></tr>\n",
       "<tr><td>mortise_1_height       </td><td style=\"text-align: right;\">3.625</td></tr>\n",
       "<tr><td>mortise_1_offset_bottom</td><td style=\"text-align: right;\">3.5  </td></tr>\n",
       "</tbody>\n",
       "</table>"
      ],
      "text/plain": [
       "{'mortise_3_offset_top': 1,\n",
       " 'mortise_3_height': 29/8,\n",
       " 'mortise_3_offset': None,\n",
       " 'mortise_2_height': 29/8,\n",
       " 'mortise_2_offset': None,\n",
       " 'mortise_1_height': 29/8,\n",
       " 'mortise_1_offset_bottom': 3.5}"
      ]
     },
     "execution_count": 7,
     "metadata": {},
     "output_type": "execute_result"
    }
   ],
   "source": [
    "# calculate where to place the \n",
    "mheight = TreatedLumber2x4.width\n",
    "ctx = mortise_ctx = Context(\n",
    "    mortise_3_offset_top= 1,\n",
    "    mortise_3_height= mheight,\n",
    "    mortise_3_offset= None,\n",
    "    mortise_2_height= mheight,    \n",
    "    mortise_2_offset= None,    \n",
    "    mortise_1_height= mheight,\n",
    "    mortise_1_offset_bottom= 3.5,\n",
    ")\n",
    "ctx"
   ]
  },
  {
   "cell_type": "code",
   "execution_count": 8,
   "metadata": {},
   "outputs": [
    {
     "name": "stdout",
     "output_type": "stream",
     "text": [
      "('remaining', 1.12500000000000)\n"
     ]
    },
    {
     "data": {
      "text/html": [
       "<table>\n",
       "<tbody>\n",
       "<tr><td>mortise_3_offset_top   </td><td style=\"text-align: right;\">1     </td></tr>\n",
       "<tr><td>mortise_3_height       </td><td style=\"text-align: right;\">3.625 </td></tr>\n",
       "<tr><td>mortise_3_offset       </td><td style=\"text-align: right;\">0.5625</td></tr>\n",
       "<tr><td>mortise_2_height       </td><td style=\"text-align: right;\">3.625 </td></tr>\n",
       "<tr><td>mortise_2_offset       </td><td style=\"text-align: right;\">0.5625</td></tr>\n",
       "<tr><td>mortise_1_height       </td><td style=\"text-align: right;\">3.625 </td></tr>\n",
       "<tr><td>mortise_1_offset_bottom</td><td style=\"text-align: right;\">3.5   </td></tr>\n",
       "<tr><td>mortise_2_offset_bottom</td><td style=\"text-align: right;\">7.6875</td></tr>\n",
       "</tbody>\n",
       "</table>"
      ],
      "text/plain": [
       "{'mortise_3_offset_top': 1,\n",
       " 'mortise_3_height': 29/8,\n",
       " 'mortise_3_offset': 0.562500000000000,\n",
       " 'mortise_2_height': 29/8,\n",
       " 'mortise_2_offset': 0.562500000000000,\n",
       " 'mortise_1_height': 29/8,\n",
       " 'mortise_1_offset_bottom': 3.5,\n",
       " 'mortise_2_offset_bottom': 7.68750000000000}"
      ]
     },
     "execution_count": 8,
     "metadata": {},
     "output_type": "execute_result"
    }
   ],
   "source": [
    "leg_things = ctx.values()\n",
    "remaining = bench.ctx['legs_to_shoulder'] - sum(x for x in ctx.values() if x is not None)\n",
    "print(('remaining', remaining))\n",
    "ctx['mortise_3_offset'] = ctx['mortise_2_offset'] = remaining / 2\n",
    "assert sum(ctx.values()) == bench.ctx['legs_to_shoulder']\n",
    "ctx['mortise_2_offset_bottom'] = sum(ctx[key] for key in ['mortise_1_offset_bottom', 'mortise_1_height', 'mortise_2_offset'])\n",
    "ctx"
   ]
  },
  {
   "cell_type": "code",
   "execution_count": 9,
   "metadata": {},
   "outputs": [
    {
     "data": {
      "text/latex": [
       "$\\displaystyle \\frac{17}{16}$"
      ],
      "text/plain": [
       "17/16"
      ]
     },
     "execution_count": 9,
     "metadata": {},
     "output_type": "execute_result"
    }
   ],
   "source": [
    "ctx['mortise_1_side'] = ctx['mortise_2_side'] = (TreatedLumber4x4.height - TreatedLumber2x4.height) / 2\n",
    "ctx['mortise_1_side']"
   ]
  },
  {
   "cell_type": "code",
   "execution_count": 10,
   "metadata": {},
   "outputs": [
    {
     "data": {
      "text/plain": [
       "'1-1/16\"'"
      ]
     },
     "execution_count": 10,
     "metadata": {},
     "output_type": "execute_result"
    }
   ],
   "source": [
    "express_in(ctx['mortise_1_side'])"
   ]
  },
  {
   "cell_type": "code",
   "execution_count": 11,
   "metadata": {},
   "outputs": [
    {
     "data": {
      "text/html": [
       "<table>\n",
       "<tbody>\n",
       "<tr><td>mortise_3_offset_top   </td><td>1\"      </td></tr>\n",
       "<tr><td>mortise_3_height       </td><td>3-5/8\"  </td></tr>\n",
       "<tr><td>mortise_3_offset       </td><td>9/16\"   </td></tr>\n",
       "<tr><td>mortise_2_height       </td><td>3-5/8\"  </td></tr>\n",
       "<tr><td>mortise_2_offset       </td><td>9/16\"   </td></tr>\n",
       "<tr><td>mortise_1_height       </td><td>3-5/8\"  </td></tr>\n",
       "<tr><td>mortise_1_offset_bottom</td><td>3-1/2\"  </td></tr>\n",
       "<tr><td>mortise_2_offset_bottom</td><td>7-11/16\"</td></tr>\n",
       "<tr><td>mortise_1_side         </td><td>1-1/16\" </td></tr>\n",
       "<tr><td>mortise_2_side         </td><td>1-1/16\" </td></tr>\n",
       "</tbody>\n",
       "</table>"
      ],
      "text/plain": [
       "{'mortise_3_offset_top': '1\"',\n",
       " 'mortise_3_height': '3-5/8\"',\n",
       " 'mortise_3_offset': '9/16\"',\n",
       " 'mortise_2_height': '3-5/8\"',\n",
       " 'mortise_2_offset': '9/16\"',\n",
       " 'mortise_1_height': '3-5/8\"',\n",
       " 'mortise_1_offset_bottom': '3-1/2\"',\n",
       " 'mortise_2_offset_bottom': '7-11/16\"',\n",
       " 'mortise_1_side': '1-1/16\"',\n",
       " 'mortise_2_side': '1-1/16\"'}"
      ]
     },
     "execution_count": 11,
     "metadata": {},
     "output_type": "execute_result"
    }
   ],
   "source": [
    "format_context(mortise_ctx)"
   ]
  },
  {
   "cell_type": "code",
   "execution_count": 12,
   "metadata": {},
   "outputs": [
    {
     "data": {
      "text/plain": [
       "'7-11/16\"'"
      ]
     },
     "execution_count": 12,
     "metadata": {},
     "output_type": "execute_result"
    }
   ],
   "source": [
    "mortise_2_from_bottom = ctx['mortise_1_offset_bottom'] + ctx['mortise_1_height'] + ctx['mortise_2_offset']\n",
    "express_in(mortise_2_from_bottom)"
   ]
  },
  {
   "cell_type": "code",
   "execution_count": 13,
   "metadata": {},
   "outputs": [
    {
     "data": {
      "text/plain": [
       "('3/4\"', '2-1/8\"')"
      ]
     },
     "execution_count": 13,
     "metadata": {},
     "output_type": "execute_result"
    }
   ],
   "source": [
    "ctx['mortise_3_side'] = .75\n",
    "ctx['mortise_3_width'] = TreatedLumber4x4.width - 2*ctx['mortise_3_side']\n",
    "express_in(ctx['mortise_3_side']), express_in(ctx['mortise_3_width'])"
   ]
  },
  {
   "cell_type": "code",
   "execution_count": 14,
   "metadata": {},
   "outputs": [
    {
     "data": {
      "text/html": [
       "<table>\n",
       "<tbody>\n",
       "<tr><td>between_legs_side</td><td>11-11/16\"</td></tr>\n",
       "</tbody>\n",
       "</table>"
      ],
      "text/plain": [
       "{'between_legs_side': '11-11/16\"'}"
      ]
     },
     "execution_count": 14,
     "metadata": {},
     "output_type": "execute_result"
    }
   ],
   "source": [
    "#ctx = Context()\n",
    "ctx2 = Context()\n",
    "ctx2['between_legs_side'] = 9 + Rational('11/16') + (2*1)\n",
    "format_context(ctx2)"
   ]
  },
  {
   "cell_type": "code",
   "execution_count": 15,
   "metadata": {},
   "outputs": [
    {
     "data": {
      "text/html": [
       "<table>\n",
       "<tbody>\n",
       "<tr><td>from_top           </td><td>1-13/16\"</td></tr>\n",
       "<tr><td>from_side_3.5_piece</td><td>1-3/4\"  </td></tr>\n",
       "</tbody>\n",
       "</table>"
      ],
      "text/plain": [
       "{'from_top': '1-13/16\"', 'from_side_3.5_piece': '1-3/4\"'}"
      ]
     },
     "execution_count": 15,
     "metadata": {},
     "output_type": "execute_result"
    }
   ],
   "source": [
    "ctx = drill_jig_ctx = Context()\n",
    "ctx['from_top'] = TreatedLumber4x4.width / 2\n",
    "ctx['from_side_3.5_piece'] = 3.5 / 2\n",
    "format_context(ctx)"
   ]
  },
  {
   "cell_type": "code",
   "execution_count": 16,
   "metadata": {},
   "outputs": [
    {
     "data": {
      "text/html": [
       "<table>\n",
       "<tbody>\n",
       "<tr><td>leg_from_side        </td><td>9\"       </td></tr>\n",
       "<tr><td>from_side_3.5-8_piece</td><td>1-13/16\" </td></tr>\n",
       "<tr><td>from_side_of_leg     </td><td>10-13/16\"</td></tr>\n",
       "</tbody>\n",
       "</table>"
      ],
      "text/plain": [
       "{'leg_from_side': '9\"',\n",
       " 'from_side_3.5-8_piece': '1-13/16\"',\n",
       " 'from_side_of_leg': '10-13/16\"'}"
      ]
     },
     "execution_count": 16,
     "metadata": {},
     "output_type": "execute_result"
    }
   ],
   "source": [
    "ctx = longboards = Context()\n",
    "ctx['leg_from_side'] = 9\n",
    "ctx['from_side_3.5-8_piece'] = TreatedLumber4x4.width / 2\n",
    "ctx['from_side_of_leg'] = ctx['leg_from_side'] + (TreatedLumber4x4.width / 2)\n",
    "format_context(ctx)"
   ]
  },
  {
   "cell_type": "code",
   "execution_count": 17,
   "metadata": {},
   "outputs": [
    {
     "data": {
      "text/html": [
       "<table>\n",
       "<tbody>\n",
       "<tr><td>long_distance_btwn_outside_of_legs </td><td>30\" </td></tr>\n",
       "<tr><td>long_sticking_out                  </td><td>1/2\"</td></tr>\n",
       "<tr><td>long_rail_length                   </td><td>31\" </td></tr>\n",
       "<tr><td>short_distance_btwn_outside_of_legs</td><td>16\" </td></tr>\n",
       "<tr><td>short_sticking_out                 </td><td>1/2\"</td></tr>\n",
       "<tr><td>short_rail_length                  </td><td>17\" </td></tr>\n",
       "</tbody>\n",
       "</table>"
      ],
      "text/plain": [
       "{'long_distance_btwn_outside_of_legs': '30\"',\n",
       " 'long_sticking_out': '1/2\"',\n",
       " 'long_rail_length': '31\"',\n",
       " 'short_distance_btwn_outside_of_legs': '16\"',\n",
       " 'short_sticking_out': '1/2\"',\n",
       " 'short_rail_length': '17\"'}"
      ]
     },
     "execution_count": 17,
     "metadata": {},
     "output_type": "execute_result"
    }
   ],
   "source": [
    "ctx = basectx = Context()\n",
    "ctx['long_distance_btwn_outside_of_legs'] = 30\n",
    "ctx['long_sticking_out'] = Rational(\"1/2\")\n",
    "ctx['long_rail_length'] = ctx['long_distance_btwn_outside_of_legs'] + (2*ctx['long_sticking_out'])\n",
    "\n",
    "ctx['short_distance_btwn_outside_of_legs'] = 16\n",
    "ctx['short_sticking_out'] = Rational(\"1/2\")\n",
    "ctx['short_rail_length'] = ctx['short_distance_btwn_outside_of_legs'] + (2*ctx['short_sticking_out'])\n",
    "format_context(ctx)"
   ]
  }
 ],
 "metadata": {
  "kernelspec": {
   "display_name": "Python 3",
   "language": "python",
   "name": "python3"
  },
  "language_info": {
   "codemirror_mode": {
    "name": "ipython",
    "version": 3
   },
   "file_extension": ".py",
   "mimetype": "text/x-python",
   "name": "python",
   "nbconvert_exporter": "python",
   "pygments_lexer": "ipython3",
   "version": "3.6.8"
  }
 },
 "nbformat": 4,
 "nbformat_minor": 4
}
