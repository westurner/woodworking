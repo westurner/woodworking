{
 "cells": [
  {
   "cell_type": "code",
   "execution_count": 1,
   "metadata": {},
   "outputs": [
    {
     "name": "stdout",
     "output_type": "stream",
     "text": [
      "Requirement already satisfied: tinydb in /opt/conda/envs/cq/lib/python3.6/site-packages (3.15.1)\n"
     ]
    },
    {
     "name": "stderr",
     "output_type": "stream",
     "text": [
      "/opt/conda/envs/cq/lib/python3.6/site-packages/cadquery/selectors.py:474: SyntaxWarning: Exception creating Regex for oneOf, building MatchFirst\n",
      "  direction_op = oneOf(['>', '<'])\n",
      "/opt/conda/envs/cq/lib/python3.6/site-packages/cadquery/selectors.py:484: SyntaxWarning: Exception creating Regex for oneOf, building MatchFirst\n",
      "  other_op = oneOf(['|', '#', '+', '-'])\n"
     ]
    }
   ],
   "source": [
    "USER_SITE = __import__(\"site\").USER_SITE\n",
    "!rm -rf $USER_SITE/cqparts*\n",
    "!test -d _cqparts_src || git clone https://github.com/CapableRobot/cqparts ./_cqparts_src\n",
    "!test -d $USER_SITE || mkdir -p $USER_SITE\n",
    "!ln -s _cqparts_src/src/* $USER_SITE/\n",
    "# !pip install -r _cqparts_src/src/cqparts/requirements.txt\n",
    "!pip install tinydb  # everything else is already installed by conda\n",
    "import cqparts "
   ]
  },
  {
   "cell_type": "code",
   "execution_count": 8,
   "metadata": {},
   "outputs": [
    {
     "name": "stdout",
     "output_type": "stream",
     "text": [
      "\n",
      "Enabling jupyter_cadquery replay\n"
     ]
    },
    {
     "name": "stderr",
     "output_type": "stream",
     "text": [
      "RuntimeWarning: jupyter_cadquery replay is enabled, turn off with disable_replay()"
     ]
    }
   ],
   "source": [
    "import cadquery as cq\n",
    "from jupyter_cadquery.cadquery import (\n",
    "    Edges, Faces, Vertices, show, \n",
    "    replay, enable_replay, disable_replay, reset_replay)\n",
    "from jupyter_cadquery import set_sidecar\n",
    "\n",
    "set_sidecar(\"CadQuery\")\n",
    "enable_replay()"
   ]
  },
  {
   "cell_type": "code",
   "execution_count": 3,
   "metadata": {},
   "outputs": [
    {
     "name": "stderr",
     "output_type": "stream",
     "text": [
      "RuntimeWarning: jupyter_cadquery replay is enabled, turn off with disable_replay()"
     ]
    }
   ],
   "source": [
    "import cqparts\n",
    "from cqparts.params import PositiveFloat\n",
    "from cqparts.display import render_props\n",
    "\n",
    "class Board2x4(cqparts.Part):\n",
    "\n",
    "    length = PositiveFloat(48.0, doc=\"length of board\")\n",
    "    height = PositiveFloat(1.5, doc=\"height of board\")\n",
    "    thickness = PositiveFloat(3.5, doc=\"thickness of board\")\n",
    "    \n",
    "    _render = render_props(template='wood_dark')\n",
    "\n",
    "    def make(self):\n",
    "        result = (\n",
    "            cq.Workplane(\"front\")\n",
    "            .box(self.length, self.height, self.thickness)\n",
    "        )\n",
    "        return result\n",
    "        "
   ]
  },
  {
   "cell_type": "code",
   "execution_count": 4,
   "metadata": {},
   "outputs": [
    {
     "name": "stderr",
     "output_type": "stream",
     "text": [
      "RuntimeWarning: jupyter_cadquery replay is enabled, turn off with disable_replay()"
     ]
    }
   ],
   "source": [
    "x = \"\"\"\n",
    "            .faces('>Z')\n",
    "            .workplane()\n",
    "            .rect(length-padding, length-padding, forConstruction=True)\n",
    "            .vertices()\n",
    "            .hole(10)\n",
    "\"\"\""
   ]
  },
  {
   "cell_type": "code",
   "execution_count": 9,
   "metadata": {},
   "outputs": [
    {
     "name": "stderr",
     "output_type": "stream",
     "text": [
      "RuntimeWarning: jupyter_cadquery replay is enabled, turn off with disable_replay()"
     ]
    },
    {
     "name": "stdout",
     "output_type": "stream",
     "text": [
      "Done, using side car 'CadQuery'\n"
     ]
    },
    {
     "data": {
      "text/plain": [
       "<jupyter_cadquery.cad_display.CadqueryDisplay at 0x7fe5f21f9f98>"
      ]
     },
     "execution_count": 9,
     "metadata": {},
     "output_type": "execute_result"
    }
   ],
   "source": [
    "board1 = Board2x4()\n",
    "show(board1.local_obj)"
   ]
  },
  {
   "cell_type": "code",
   "execution_count": 6,
   "metadata": {},
   "outputs": [
    {
     "name": "stderr",
     "output_type": "stream",
     "text": [
      "RuntimeWarning: jupyter_cadquery replay is enabled, turn off with disable_replay()"
     ]
    },
    {
     "ename": "SyntaxError",
     "evalue": "invalid syntax (<ipython-input-6-a98eacbfbfcf>, line 1)",
     "output_type": "error",
     "traceback": [
      "\u001b[0;36m  File \u001b[0;32m\"<ipython-input-6-a98eacbfbfcf>\"\u001b[0;36m, line \u001b[0;32m1\u001b[0m\n\u001b[0;31m    from cqparts.params import\u001b[0m\n\u001b[0m                               ^\u001b[0m\n\u001b[0;31mSyntaxError\u001b[0m\u001b[0;31m:\u001b[0m invalid syntax\n"
     ]
    }
   ],
   "source": [
    "from cqparts.params import "
   ]
  }
 ],
 "metadata": {
  "kernelspec": {
   "display_name": "Python 3",
   "language": "python",
   "name": "python3"
  },
  "language_info": {
   "codemirror_mode": {
    "name": "ipython",
    "version": 3
   },
   "file_extension": ".py",
   "mimetype": "text/x-python",
   "name": "python",
   "nbconvert_exporter": "python",
   "pygments_lexer": "ipython3",
   "version": "3.6.8"
  }
 },
 "nbformat": 4,
 "nbformat_minor": 4
}
