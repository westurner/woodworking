{
 "cells": [
  {
   "cell_type": "markdown",
   "metadata": {},
   "source": [
    "# carttable\n",
    "- How much force is necessary to tip the table?\n",
    "  - From the top\n",
    "  - From the side"
   ]
  },
  {
   "cell_type": "code",
   "execution_count": 7,
   "metadata": {},
   "outputs": [],
   "source": [
    "from __future__ import division, print_function"
   ]
  },
  {
   "cell_type": "code",
   "execution_count": 1,
   "metadata": {},
   "outputs": [],
   "source": [
    "class Shelves(object):\n",
    "    # inches\n",
    "    height_in = 34.5\n",
    "    height_without_wheels_in = 34.5 - 5.5  # TODO\n",
    "    width_in = 34\n",
    "    depth_in = 18\n",
    "    \n",
    "    weight_lb = 31\n",
    "    weith_without_wheels_lb = 25.5\n",
    "\n",
    "    \n",
    "class TopFrame(object):\n",
    "    # 2x6 (1.5 x 5.5)\n",
    "    # 2x 38\n",
    "    # 2x 21\n",
    "    width_in = 38\n",
    "    depth_in = 21\n",
    "    height_in = 3  # (2*1.5)\n",
    "    \n",
    "    weight_lb = 15\n",
    "    \n",
    "\n",
    "class Top1(object):\n",
    "    width_in = 49\n",
    "    depth_in = 36\n",
    "    height_in = (3/4)\n",
    "    \n",
    "    weight_lb = 38.5\n",
    "    \n",
    "    \n",
    "class Top2(object):\n",
    "    width_in = 49\n",
    "    depth_in = 40\n",
    "    height_in = (3/4)\n",
    "    \n",
    "    weight_lb = 41\n",
    "\n",
    "\n",
    "class Top3(object):\n",
    "    width_in = 49\n",
    "    depth_in = 20 + (3/4)\n",
    "    height_in = (3/4)\n",
    "    \n",
    "    weight_lb = 12.5\n",
    "\n",
    "    \n",
    "class FootRail(object):\n",
    "    # 2x 34\n",
    "    # 2x 22\n",
    "    width_in = 34\n",
    "    depth_in = 22\n",
    "    \n",
    "    weight_lb = 16.5\n"
   ]
  },
  {
   "cell_type": "markdown",
   "metadata": {},
   "source": [
    "## Software Environment\n",
    "```bash\n",
    "conda create -n carttable \\\n",
    "    notebook freecad cadquery sympy pint\n",
    "```"
   ]
  },
  {
   "cell_type": "code",
   "execution_count": 2,
   "metadata": {},
   "outputs": [
    {
     "data": {
      "text/plain": [
       "5.666666666666667"
      ]
     },
     "execution_count": 2,
     "metadata": {},
     "output_type": "execute_result"
    }
   ],
   "source": [
    "inner_width = 23.5\n",
    "bracket_width_in = 3.25\n",
    "\n",
    "# 3.25 * 2 = 6.5\n",
    "(23.5 - 6.5) / 3"
   ]
  },
  {
   "cell_type": "code",
   "execution_count": 3,
   "metadata": {},
   "outputs": [],
   "source": [
    "# minimum leg height w/ wheels: 7.25 in\n"
   ]
  },
  {
   "cell_type": "code",
   "execution_count": 5,
   "metadata": {},
   "outputs": [
    {
     "name": "stdout",
     "output_type": "stream",
     "text": [
      "35.25\n"
     ]
    }
   ],
   "source": [
    "total_height_with_wheels = Shelves.height_in + Top1.height_in\n",
    "print(total_height_with_wheels)"
   ]
  },
  {
   "cell_type": "code",
   "execution_count": 48,
   "metadata": {},
   "outputs": [
    {
     "name": "stdout",
     "output_type": "stream",
     "text": [
      "(9.0, 18.0)\n",
      "1.0\n"
     ]
    }
   ],
   "source": [
    "# d1: distance from center of gravity to outer edge of base (?)\n",
    "_d1 = Shelves.depth_in / 2\n",
    "# d2: distance from center of gravity to outer edge of top (?)\n",
    "_d2 = Top1.depth_in / 2\n",
    "print((_d1, _d2))\n",
    "\n",
    "force_magnifier = (_d1) / (_d2-_d1)\n",
    "print(force_magnifier)"
   ]
  },
  {
   "cell_type": "code",
   "execution_count": 51,
   "metadata": {},
   "outputs": [
    {
     "name": "stdout",
     "output_type": "stream",
     "text": [
      "d1*g*m/(-d1 + d2)\n",
      "{'d1': 9.0*inch, 'd2': 18.0*inch, 'g': gravitational_constant, 'm': 1406136347*kilogram/100000000}\n",
      "14.06136347*gravitational_constant*kilogram\n"
     ]
    },
    {
     "data": {
      "text/plain": [
       "14.06136347*gravitational_constant*kilogram"
      ]
     },
     "execution_count": 51,
     "metadata": {},
     "output_type": "execute_result"
    }
   ],
   "source": [
    "from sympy import symbols\n",
    "import pint\n",
    "ureg = pint.UnitRegistry()\n",
    "\n",
    "#_g = gravitational_constant_at_sea_level = 9.81 * (u.meters / u.seconds**2)\n",
    "from sympy.physics.units import gravitational_constant as G\n",
    "\n",
    "d1, d2, f1, f2, m, g = symbols('d1 d2 f1 f2 m g')\n",
    "F1 = (m*g*d1) / (d2 - d1)\n",
    "print(F1)\n",
    "values = {\n",
    "    'd1': _d1 * u.inches,\n",
    "    'd2': _d2 * u.inches,\n",
    "    'g': G,  # gravitational constant\n",
    "    'm': u.convert_to(Shelves.weight_lb * u.pounds, u.kg)\n",
    "}\n",
    "print(values)\n",
    "output = F1.subs(values)\n",
    "print(output)\n",
    "output.n()"
   ]
  },
  {
   "cell_type": "code",
   "execution_count": 20,
   "metadata": {},
   "outputs": [],
   "source": [
    "import sympy.physics.units as u\n",
    "u.in"
   ]
  },
  {
   "cell_type": "code",
   "execution_count": 23,
   "metadata": {},
   "outputs": [
    {
     "data": {
      "text/plain": [
       "9.81*meter/second**2"
      ]
     },
     "execution_count": 23,
     "metadata": {},
     "output_type": "execute_result"
    }
   ],
   "source": [
    "9.81 * (u.meters / u.seconds**2)  # gravitational constant"
   ]
  },
  {
   "cell_type": "code",
   "execution_count": 47,
   "metadata": {},
   "outputs": [
    {
     "name": "stderr",
     "output_type": "stream",
     "text": [
      "/home/wturner/-wrk/-ce36/carttable/lib/python3.6/site-packages/sympy/physics/units/quantities.py:45: SymPyDeprecationWarning: \n",
      "\n",
      "Quantity arguments has been deprecated since SymPy 1.3. Use\n",
      "SI_quantity_dimension_map instead. See\n",
      "https://github.com/sympy/sympy/issues/14319 for more info.\n",
      "\n",
      "  useinstead=\"SI_quantity_dimension_map\",\n"
     ]
    },
    {
     "ename": "ValueError",
     "evalue": "expected dimension or 1",
     "output_type": "error",
     "traceback": [
      "\u001b[0;31m---------------------------------------------------------------------------\u001b[0m",
      "\u001b[0;31mValueError\u001b[0m                                Traceback (most recent call last)",
      "\u001b[0;32m<ipython-input-47-f633f9c8e134>\u001b[0m in \u001b[0;36m<module>\u001b[0;34m()\u001b[0m\n\u001b[1;32m      1\u001b[0m \u001b[0;32mimport\u001b[0m \u001b[0msympy\u001b[0m\u001b[0;34m.\u001b[0m\u001b[0mphysics\u001b[0m\u001b[0;34m.\u001b[0m\u001b[0munits\u001b[0m\u001b[0;34m.\u001b[0m\u001b[0mquantities\u001b[0m \u001b[0;32mas\u001b[0m \u001b[0mq\u001b[0m\u001b[0;34m\u001b[0m\u001b[0m\n\u001b[0;32m----> 2\u001b[0;31m \u001b[0mq\u001b[0m\u001b[0;34m.\u001b[0m\u001b[0mQuantity\u001b[0m\u001b[0;34m(\u001b[0m\u001b[0;34m'g'\u001b[0m\u001b[0;34m,\u001b[0m \u001b[0mu\u001b[0m\u001b[0;34m.\u001b[0m\u001b[0mmeters\u001b[0m\u001b[0;34m/\u001b[0m\u001b[0;34m(\u001b[0m\u001b[0mu\u001b[0m\u001b[0;34m.\u001b[0m\u001b[0mseconds\u001b[0m\u001b[0;34m**\u001b[0m\u001b[0;36m2\u001b[0m\u001b[0;34m)\u001b[0m\u001b[0;34m)\u001b[0m\u001b[0;34m\u001b[0m\u001b[0m\n\u001b[0m",
      "\u001b[0;32m~/-wrk/-ce36/carttable/lib/python3.6/site-packages/sympy/physics/units/quantities.py\u001b[0m in \u001b[0;36m__new__\u001b[0;34m(cls, name, abbrev, dimension, scale_factor, **assumptions)\u001b[0m\n\u001b[1;32m     65\u001b[0m         \u001b[0;32mif\u001b[0m \u001b[0mdimension\u001b[0m \u001b[0;32mis\u001b[0m \u001b[0;32mnot\u001b[0m \u001b[0;32mNone\u001b[0m\u001b[0;34m:\u001b[0m\u001b[0;34m\u001b[0m\u001b[0m\n\u001b[1;32m     66\u001b[0m             \u001b[0;31m# TODO: remove after deprecation:\u001b[0m\u001b[0;34m\u001b[0m\u001b[0;34m\u001b[0m\u001b[0m\n\u001b[0;32m---> 67\u001b[0;31m             \u001b[0mobj\u001b[0m\u001b[0;34m.\u001b[0m\u001b[0mset_dimension\u001b[0m\u001b[0;34m(\u001b[0m\u001b[0mdimension\u001b[0m\u001b[0;34m)\u001b[0m\u001b[0;34m\u001b[0m\u001b[0m\n\u001b[0m\u001b[1;32m     68\u001b[0m \u001b[0;34m\u001b[0m\u001b[0m\n\u001b[1;32m     69\u001b[0m         \u001b[0;32mif\u001b[0m \u001b[0mscale_factor\u001b[0m \u001b[0;32mis\u001b[0m \u001b[0;32mnot\u001b[0m \u001b[0;32mNone\u001b[0m\u001b[0;34m:\u001b[0m\u001b[0;34m\u001b[0m\u001b[0m\n",
      "\u001b[0;32m~/-wrk/-ce36/carttable/lib/python3.6/site-packages/sympy/physics/units/quantities.py\u001b[0m in \u001b[0;36mset_dimension\u001b[0;34m(self, dimension, unit_system)\u001b[0m\n\u001b[1;32m     92\u001b[0m                 \u001b[0mdimension\u001b[0m \u001b[0;34m=\u001b[0m \u001b[0mDimension\u001b[0m\u001b[0;34m(\u001b[0m\u001b[0;36m1\u001b[0m\u001b[0;34m)\u001b[0m\u001b[0;34m\u001b[0m\u001b[0m\n\u001b[1;32m     93\u001b[0m             \u001b[0;32melse\u001b[0m\u001b[0;34m:\u001b[0m\u001b[0;34m\u001b[0m\u001b[0m\n\u001b[0;32m---> 94\u001b[0;31m                 \u001b[0;32mraise\u001b[0m \u001b[0mValueError\u001b[0m\u001b[0;34m(\u001b[0m\u001b[0;34m\"expected dimension or 1\"\u001b[0m\u001b[0;34m)\u001b[0m\u001b[0;34m\u001b[0m\u001b[0m\n\u001b[0m\u001b[1;32m     95\u001b[0m         \u001b[0;32melse\u001b[0m\u001b[0;34m:\u001b[0m\u001b[0;34m\u001b[0m\u001b[0m\n\u001b[1;32m     96\u001b[0m             \u001b[0;32mfor\u001b[0m \u001b[0mdim_sym\u001b[0m \u001b[0;32min\u001b[0m \u001b[0mdimension\u001b[0m\u001b[0;34m.\u001b[0m\u001b[0mname\u001b[0m\u001b[0;34m.\u001b[0m\u001b[0matoms\u001b[0m\u001b[0;34m(\u001b[0m\u001b[0mDimension\u001b[0m\u001b[0;34m)\u001b[0m\u001b[0;34m:\u001b[0m\u001b[0;34m\u001b[0m\u001b[0m\n",
      "\u001b[0;31mValueError\u001b[0m: expected dimension or 1"
     ]
    }
   ],
   "source": [
    "import sympy.physics.units.quantities as q\n",
    "q.Quantity('g', u.meters/(u.seconds**2))"
   ]
  },
  {
   "cell_type": "code",
   "execution_count": null,
   "metadata": {},
   "outputs": [],
   "source": []
  }
 ],
 "metadata": {
  "kernelspec": {
   "display_name": "Python 3",
   "language": "python",
   "name": "python3"
  },
  "language_info": {
   "codemirror_mode": {
    "name": "ipython",
    "version": 3
   },
   "file_extension": ".py",
   "mimetype": "text/x-python",
   "name": "python",
   "nbconvert_exporter": "python",
   "pygments_lexer": "ipython3",
   "version": "3.6.6"
  }
 },
 "nbformat": 4,
 "nbformat_minor": 2
}
