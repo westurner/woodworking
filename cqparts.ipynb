{
 "cells": [
  {
   "cell_type": "markdown",
   "metadata": {},
   "source": [
    "# CQParts Example\n",
    "\n",
    "Source: https://cqparts.github.io/cqparts/doc/tutorials/assembly.html"
   ]
  },
  {
   "cell_type": "code",
   "execution_count": 1,
   "metadata": {},
   "outputs": [
    {
     "name": "stderr",
     "output_type": "stream",
     "text": [
      "/opt/conda/envs/cq/lib/python3.6/site-packages/cadquery/selectors.py:474: SyntaxWarning: Exception creating Regex for oneOf, building MatchFirst\n",
      "  direction_op = oneOf(['>', '<'])\n",
      "/opt/conda/envs/cq/lib/python3.6/site-packages/cadquery/selectors.py:484: SyntaxWarning: Exception creating Regex for oneOf, building MatchFirst\n",
      "  other_op = oneOf(['|', '#', '+', '-'])\n"
     ]
    },
    {
     "name": "stdout",
     "output_type": "stream",
     "text": [
      "Overwriting auto display for cadquery Workplane and Shape\n",
      "\n",
      "Enabling jupyter_cadquery replay\n"
     ]
    }
   ],
   "source": [
    "import cadquery as cq\n",
    "from jupyter_cadquery.cadquery import Assembly, Part, Edges, Faces, show, replay, enable_replay, disable_replay, reset_replay\n",
    "from jupyter_cadquery import set_sidecar\n",
    "\n",
    "set_sidecar(\"CQParts\")\n",
    "\n",
    "enable_replay()"
   ]
  },
  {
   "cell_type": "code",
   "execution_count": 2,
   "metadata": {
    "ExecuteTime": {
     "end_time": "2019-01-28T06:31:52.025233Z",
     "start_time": "2019-01-28T06:31:49.749555Z"
    }
   },
   "outputs": [
    {
     "name": "stderr",
     "output_type": "stream",
     "text": [
      "RuntimeWarning: jupyter_cadquery replay is enabled, turn off with disable_replay()"
     ]
    }
   ],
   "source": [
    "import cadquery\n",
    "import cqparts\n",
    "from cqparts.params import *\n",
    "from cqparts.display import render_props\n",
    "\n",
    "class Wheel(cqparts.Part):\n",
    "    # Parameters\n",
    "    width = PositiveFloat(10, doc=\"width of wheel\")\n",
    "    diameter = PositiveFloat(30, doc=\"wheel diameter\")\n",
    "\n",
    "    # default appearance\n",
    "    _render = render_props(template='wood_dark')\n",
    "\n",
    "    def make(self):\n",
    "        wheel = cadquery.Workplane('XY') \\\n",
    "            .circle(self.diameter / 2).extrude(self.width)\n",
    "        hole = cadquery.Workplane('XY') \\\n",
    "            .circle(2).extrude(self.width/2).faces(\">Z\") \\\n",
    "            .circle(4).extrude(self.width/2)\n",
    "        wheel = wheel.cut(hole)\n",
    "        return wheel\n",
    "\n",
    "    def get_cutout(self, clearance=0):\n",
    "        # A cylinder with a equal clearance on every face\n",
    "        return cadquery.Workplane('XY', origin=(0, 0, -clearance)) \\\n",
    "            .circle((self.diameter / 2) + clearance) \\\n",
    "            .extrude(self.width + (2 * clearance))"
   ]
  },
  {
   "cell_type": "code",
   "execution_count": 3,
   "metadata": {
    "ExecuteTime": {
     "end_time": "2019-01-28T06:31:52.806487Z",
     "start_time": "2019-01-28T06:31:52.790285Z"
    }
   },
   "outputs": [
    {
     "name": "stderr",
     "output_type": "stream",
     "text": [
      "RuntimeWarning: jupyter_cadquery replay is enabled, turn off with disable_replay()"
     ]
    }
   ],
   "source": [
    "from cqparts.constraint import Mate\n",
    "from cqparts.utils.geometry import CoordSystem\n",
    "\n",
    "class Axle(cqparts.Part):\n",
    "    # Parameters\n",
    "    length = PositiveFloat(50, doc=\"axle length\")\n",
    "    diameter = PositiveFloat(10, doc=\"axle diameter\")\n",
    "\n",
    "    # default appearance\n",
    "    _render = render_props(color=(50, 50, 50))  # dark grey\n",
    "\n",
    "    def make(self):\n",
    "        axle = cadquery.Workplane('ZX', origin=(0, -self.length/2, 0)) \\\n",
    "            .circle(self.diameter / 2).extrude(self.length)\n",
    "        cutout = cadquery.Workplane('ZX', origin=(0, -self.length/2, 0)) \\\n",
    "            .circle(1.5).extrude(10)\n",
    "        axle = axle.cut(cutout)\n",
    "        cutout = cadquery.Workplane('XZ', origin=(0, self.length/2, 0)) \\\n",
    "            .circle(1.5).extrude(10)\n",
    "        axle = axle.cut(cutout)\n",
    "        return axle\n",
    "\n",
    "    # wheel mates, assuming they rotate around z-axis\n",
    "    @property\n",
    "    def mate_left(self):\n",
    "        return Mate(self, CoordSystem(\n",
    "            origin=(0, -self.length / 2, 0),\n",
    "            xDir=(1, 0, 0), normal=(0, -1, 0),\n",
    "        ))\n",
    "\n",
    "    @property\n",
    "    def mate_right(self):\n",
    "        return Mate(self, CoordSystem(\n",
    "            origin=(0, self.length / 2, 0),\n",
    "            xDir=(1, 0, 0), normal=(0, 1, 0),\n",
    "        ))\n",
    "\n",
    "    def get_cutout(self, clearance=0):\n",
    "        return cadquery.Workplane('ZX', origin=(0, -self.length/2 - clearance, 0)) \\\n",
    "            .circle((self.diameter / 2) + clearance) \\\n",
    "            .extrude(self.length + (2 * clearance))"
   ]
  },
  {
   "cell_type": "code",
   "execution_count": 4,
   "metadata": {
    "ExecuteTime": {
     "end_time": "2019-01-28T06:31:53.309878Z",
     "start_time": "2019-01-28T06:31:53.301591Z"
    }
   },
   "outputs": [
    {
     "name": "stderr",
     "output_type": "stream",
     "text": [
      "RuntimeWarning: jupyter_cadquery replay is enabled, turn off with disable_replay()"
     ]
    }
   ],
   "source": [
    "class Chassis(cqparts.Part):\n",
    "    # Parameters\n",
    "    width = PositiveFloat(50, doc=\"chassis width\")\n",
    "\n",
    "    _render = render_props(template='wood_light')\n",
    "\n",
    "    def make(self):\n",
    "        points = [  # chassis outline\n",
    "            (-60,0),(-60,22),(-47,23),(-37,40),\n",
    "            (5,40),(23,25),(60,22),(60,0),\n",
    "        ]\n",
    "        return cadquery.Workplane('XZ', origin=(0,self.width/2,0)) \\\n",
    "            .moveTo(*points[0]).polyline(points[1:]).close() \\\n",
    "            .extrude(self.width)"
   ]
  },
  {
   "cell_type": "code",
   "execution_count": 5,
   "metadata": {
    "ExecuteTime": {
     "end_time": "2019-01-28T06:31:53.939344Z",
     "start_time": "2019-01-28T06:31:53.923567Z"
    }
   },
   "outputs": [
    {
     "name": "stderr",
     "output_type": "stream",
     "text": [
      "RuntimeWarning: jupyter_cadquery replay is enabled, turn off with disable_replay()"
     ]
    }
   ],
   "source": [
    "from cqparts.constraint import Fixed, Coincident\n",
    "\n",
    "class WheeledAxle(cqparts.Assembly):\n",
    "    left_width = PositiveFloat(7, doc=\"left wheel width\")\n",
    "    right_width = PositiveFloat(7, doc=\"right wheel width\")\n",
    "    left_diam = PositiveFloat(25, doc=\"left wheel diameter\")\n",
    "    right_diam = PositiveFloat(25, doc=\"right wheel diameter\")\n",
    "    axle_diam = PositiveFloat(8, doc=\"axel diameter\")\n",
    "    axle_track = PositiveFloat(50, doc=\"distance between wheel tread midlines\")\n",
    "    wheel_clearance = PositiveFloat(3, doc=\"distance between wheel and chassis\")\n",
    "\n",
    "    def make_components(self):\n",
    "        axel_length = self.axle_track - (self.left_width + self.right_width) / 2\n",
    "        return {\n",
    "            'axle': Axle(length=axel_length, diameter=self.axle_diam),\n",
    "            'left_wheel': Wheel(width=self.left_width, diameter=self.left_diam),\n",
    "            'right_wheel': Wheel(width=self.right_width, diameter=self.right_diam),\n",
    "        }\n",
    "\n",
    "    def make_constraints(self):\n",
    "        return [\n",
    "            Fixed(self.components['axle'].mate_origin, CoordSystem()),\n",
    "            Coincident(\n",
    "                self.components['left_wheel'].mate_origin,\n",
    "                self.components['axle'].mate_left\n",
    "            ),\n",
    "            Coincident(\n",
    "                self.components['right_wheel'].mate_origin,\n",
    "                self.components['axle'].mate_right\n",
    "            ),\n",
    "        ]\n",
    "\n",
    "    def apply_cutout(self, part):\n",
    "        # Cut wheel & axle from given part\n",
    "        axle = self.components['axle']\n",
    "        left_wheel = self.components['left_wheel']\n",
    "        right_wheel = self.components['right_wheel']\n",
    "        local_obj = part.local_obj\n",
    "        local_obj = local_obj \\\n",
    "            .cut((axle.world_coords - part.world_coords) + axle.get_cutout()) \\\n",
    "            .cut((left_wheel.world_coords - part.world_coords) + left_wheel.get_cutout(self.wheel_clearance)) \\\n",
    "            .cut((right_wheel.world_coords - part.world_coords) + right_wheel.get_cutout(self.wheel_clearance))\n",
    "        part.local_obj = local_obj\n"
   ]
  },
  {
   "cell_type": "code",
   "execution_count": 6,
   "metadata": {
    "ExecuteTime": {
     "end_time": "2019-01-28T06:31:54.649675Z",
     "start_time": "2019-01-28T06:31:54.634897Z"
    }
   },
   "outputs": [
    {
     "name": "stderr",
     "output_type": "stream",
     "text": [
      "RuntimeWarning: jupyter_cadquery replay is enabled, turn off with disable_replay()"
     ]
    }
   ],
   "source": [
    "class Car(cqparts.Assembly):\n",
    "    # Parameters\n",
    "    wheelbase = PositiveFloat(70, \"distance between front and rear axles\")\n",
    "    axle_track = PositiveFloat(60, \"distance between tread midlines\")\n",
    "    # wheels\n",
    "    wheel_width = PositiveFloat(10, doc=\"width of all wheels\")\n",
    "    front_wheel_diam = PositiveFloat(30, doc=\"front wheel diameter\")\n",
    "    rear_wheel_diam = PositiveFloat(30, doc=\"rear wheel diameter\")\n",
    "    axle_diam = PositiveFloat(10, doc=\"axle diameter\")\n",
    "\n",
    "    def make_components(self):\n",
    "        return {\n",
    "            'chassis': Chassis(width=self.axle_track),\n",
    "            'front_axle': WheeledAxle(\n",
    "                left_width=self.wheel_width,\n",
    "                right_width=self.wheel_width,\n",
    "                left_diam=self.front_wheel_diam,\n",
    "                right_diam=self.front_wheel_diam,\n",
    "                axle_diam=self.axle_diam,\n",
    "                axle_track=self.axle_track,\n",
    "            ),\n",
    "            'rear_axle': WheeledAxle(\n",
    "                left_width=self.wheel_width,\n",
    "                right_width=self.wheel_width,\n",
    "                left_diam=self.rear_wheel_diam,\n",
    "                right_diam=self.rear_wheel_diam,\n",
    "                axle_diam=self.axle_diam,\n",
    "                axle_track=self.axle_track,\n",
    "            ),\n",
    "        }\n",
    "\n",
    "    def make_constraints(self):\n",
    "        return [\n",
    "            Fixed(self.components['chassis'].mate_origin),\n",
    "            Coincident(\n",
    "                self.components['front_axle'].mate_origin,\n",
    "                Mate(self.components['chassis'], CoordSystem((self.wheelbase/2,0,0))),\n",
    "            ),\n",
    "            Coincident(\n",
    "                self.components['rear_axle'].mate_origin,\n",
    "                Mate(self.components['chassis'], CoordSystem((-self.wheelbase/2,0,0))),\n",
    "            ),\n",
    "        ]\n",
    "\n",
    "    def make_alterations(self):\n",
    "        # cut out wheel wells\n",
    "        chassis = self.components['chassis']\n",
    "        self.components['front_axle'].apply_cutout(chassis)\n",
    "        self.components['rear_axle'].apply_cutout(chassis)\n",
    "        \n",
    "        "
   ]
  },
  {
   "cell_type": "code",
   "execution_count": 7,
   "metadata": {},
   "outputs": [
    {
     "name": "stderr",
     "output_type": "stream",
     "text": [
      "RuntimeWarning: jupyter_cadquery replay is enabled, turn off with disable_replay()"
     ]
    },
    {
     "name": "stdout",
     "output_type": "stream",
     "text": [
      "Done, using side car 'CQParts'\n"
     ]
    },
    {
     "data": {
      "text/plain": [
       "<jupyter_cadquery.cad_display.CadqueryDisplay at 0x7f53fad58a90>"
      ]
     },
     "execution_count": 7,
     "metadata": {},
     "output_type": "execute_result"
    }
   ],
   "source": [
    "car = Car()\n",
    "show(car)"
   ]
  },
  {
   "cell_type": "code",
   "execution_count": 8,
   "metadata": {},
   "outputs": [
    {
     "name": "stderr",
     "output_type": "stream",
     "text": [
      "RuntimeWarning: jupyter_cadquery replay is enabled, turn off with disable_replay()"
     ]
    },
    {
     "data": {
      "text/plain": [
       "{'chassis': <cadquery.cq.Workplane at 0x7f53fad1e9b0>,\n",
       " 'front_axle': {'axle': <cadquery.cq.Workplane at 0x7f53faca9668>,\n",
       "  'left_wheel': <cadquery.cq.Workplane at 0x7f53faca9588>,\n",
       "  'right_wheel': <cadquery.cq.Workplane at 0x7f53facba320>},\n",
       " 'rear_axle': {'axle': <cadquery.cq.Workplane at 0x7f53facce630>,\n",
       "  'left_wheel': <cadquery.cq.Workplane at 0x7f53facce5c0>,\n",
       "  'right_wheel': <cadquery.cq.Workplane at 0x7f53faccfd30>}}"
      ]
     },
     "execution_count": 8,
     "metadata": {},
     "output_type": "execute_result"
    }
   ],
   "source": [
    "from jupyter_cadquery.cadquery.cqparts import get_parts\n",
    "\n",
    "parts = get_parts(car)\n",
    "parts"
   ]
  },
  {
   "cell_type": "code",
   "execution_count": 9,
   "metadata": {},
   "outputs": [
    {
     "name": "stderr",
     "output_type": "stream",
     "text": [
      "RuntimeWarning: jupyter_cadquery replay is enabled, turn off with disable_replay()"
     ]
    },
    {
     "data": {
      "application/vnd.jupyter.widget-view+json": {
       "model_id": "92f4f603b89d4aa6ac53bf7cc7cb5cb0",
       "version_major": 2,
       "version_minor": 0
      },
      "text/plain": [
       "HBox(children=(SelectMultiple(_dom_classes=('monospace',), index=(0,), layout=Layout(width='600px'), options=(…"
      ]
     },
     "metadata": {},
     "output_type": "display_data"
    },
    {
     "data": {
      "text/plain": [
       "<jupyter_cadquery.cadquery.replay.Replay at 0x7f53fad58860>"
      ]
     },
     "execution_count": 9,
     "metadata": {},
     "output_type": "execute_result"
    }
   ],
   "source": [
    "replay(parts[\"chassis\"])"
   ]
  },
  {
   "cell_type": "code",
   "execution_count": 10,
   "metadata": {},
   "outputs": [
    {
     "name": "stderr",
     "output_type": "stream",
     "text": [
      "RuntimeWarning: jupyter_cadquery replay is enabled, turn off with disable_replay()"
     ]
    },
    {
     "data": {
      "application/vnd.jupyter.widget-view+json": {
       "model_id": "60c31f2f6ff34ba7a1cc071027965095",
       "version_major": 2,
       "version_minor": 0
      },
      "text/plain": [
       "HBox(children=(SelectMultiple(_dom_classes=('monospace',), index=(0,), layout=Layout(width='600px'), options=(…"
      ]
     },
     "metadata": {},
     "output_type": "display_data"
    },
    {
     "data": {
      "text/plain": [
       "<jupyter_cadquery.cadquery.replay.Replay at 0x7f53f9853cf8>"
      ]
     },
     "execution_count": 10,
     "metadata": {},
     "output_type": "execute_result"
    }
   ],
   "source": [
    "replay(parts[\"front_axle\"][\"axle\"])"
   ]
  },
  {
   "cell_type": "code",
   "execution_count": 11,
   "metadata": {},
   "outputs": [
    {
     "name": "stderr",
     "output_type": "stream",
     "text": [
      "RuntimeWarning: jupyter_cadquery replay is enabled, turn off with disable_replay()"
     ]
    },
    {
     "data": {
      "application/vnd.jupyter.widget-view+json": {
       "model_id": "b5705d53e99549b1967bad52859a615c",
       "version_major": 2,
       "version_minor": 0
      },
      "text/plain": [
       "HBox(children=(SelectMultiple(_dom_classes=('monospace',), index=(0,), layout=Layout(width='600px'), options=(…"
      ]
     },
     "metadata": {},
     "output_type": "display_data"
    },
    {
     "data": {
      "text/plain": [
       "<jupyter_cadquery.cadquery.replay.Replay at 0x7f53f97b11d0>"
      ]
     },
     "execution_count": 11,
     "metadata": {},
     "output_type": "execute_result"
    }
   ],
   "source": [
    "replay(parts[\"front_axle\"][\"left_wheel\"])"
   ]
  },
  {
   "cell_type": "code",
   "execution_count": null,
   "metadata": {},
   "outputs": [],
   "source": []
  }
 ],
 "metadata": {
  "kernelspec": {
   "display_name": "Python 3",
   "language": "python",
   "name": "python3"
  },
  "language_info": {
   "codemirror_mode": {
    "name": "ipython",
    "version": 3
   },
   "file_extension": ".py",
   "mimetype": "text/x-python",
   "name": "python",
   "nbconvert_exporter": "python",
   "pygments_lexer": "ipython3",
   "version": "3.6.8"
  },
  "toc": {
   "base_numbering": 1,
   "nav_menu": {},
   "number_sections": true,
   "sideBar": true,
   "skip_h1_title": false,
   "title_cell": "Table of Contents",
   "title_sidebar": "Contents",
   "toc_cell": false,
   "toc_position": {
    "height": "calc(100% - 180px)",
    "left": "10px",
    "top": "150px",
    "width": "348.391px"
   },
   "toc_section_display": true,
   "toc_window_display": false
  },
  "varInspector": {
   "cols": {
    "lenName": 16,
    "lenType": 16,
    "lenVar": 40
   },
   "kernels_config": {
    "python": {
     "delete_cmd_postfix": "",
     "delete_cmd_prefix": "del ",
     "library": "var_list.py",
     "varRefreshCmd": "print(var_dic_list())"
    },
    "r": {
     "delete_cmd_postfix": ") ",
     "delete_cmd_prefix": "rm(",
     "library": "var_list.r",
     "varRefreshCmd": "cat(var_dic_list()) "
    }
   },
   "types_to_exclude": [
    "module",
    "function",
    "builtin_function_or_method",
    "instance",
    "_Feature"
   ],
   "window_display": false
  }
 },
 "nbformat": 4,
 "nbformat_minor": 4
}
